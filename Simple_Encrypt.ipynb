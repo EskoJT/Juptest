{
 "cells": [
  {
   "cell_type": "code",
   "execution_count": 26,
   "metadata": {},
   "outputs": [],
   "source": [
    "def encrypt(text, n):\n",
    "    x = 0\n",
    "    if not text:\n",
    "        if text == '':\n",
    "            return text\n",
    "        else: \n",
    "            print(None)\n",
    "    elif n <= 0:\n",
    "        return text\n",
    "    else:\n",
    "        while x != n:\n",
    "            b =''.join(y for x, y in enumerate(text) if x%2 !=0) + ''.join(y for x, y in enumerate(text) if x%2 ==0)\n",
    "            text = b\n",
    "            x +=1\n",
    "            print(text)\n",
    "    print(text)\n",
    "    return text"
   ]
  },
  {
   "cell_type": "code",
   "execution_count": 28,
   "metadata": {},
   "outputs": [],
   "source": [
    "def decrypt(encrypted_text, n):\n",
    "    if not encrypted_text:\n",
    "        if encrypted_text == '':\n",
    "            return encrypted_text\n",
    "        else: \n",
    "            return 'None'\n",
    "    elif n <= 0:\n",
    "        return encrypted_text\n",
    "    else:\n",
    "        for x in range(n):\n",
    "            alku2 = [cha for cha in (encrypted_text[:(int(len(encrypted_text) / 2))])]\n",
    "            loppu2 = [chl for chl in (encrypted_text[(int(len(encrypted_text) / 2)):])]\n",
    "            a = 0\n",
    "            for l in range(0, len(loppu2)):\n",
    "                alku2.insert(a, loppu2[l])\n",
    "                a += 2\n",
    "            encrypted_text = ''.join(alku2)\n",
    "    return encrypted_text"
   ]
  },
  {
   "cell_type": "code",
   "execution_count": 11,
   "metadata": {},
   "outputs": [],
   "source": [
    "texti2 = 'AB' #2\n",
    "texti4 = 'AB C' #4\n",
    "texti6 = 'AB CD ' #3\n",
    "texti8 = 'AB CD EF' #6\n",
    "texti10 = 'AB CD EF G' #10\n",
    "texti12 = 'AB CD EF G H' #12\n",
    "texti14 = 'AB CD EF G HI ' #4\n",
    "texti16 = 'AB CD EF G HI JK' #8\n",
    "texti17 = 'AB CD EF G HI JK ' #8\n",
    "texti18 = 'AB CD EF G HI JK L' #18\n",
    "texti20 = 'AB CD EF H HI JK L M' #6\n",
    "texti22 = 'AB CD EF H HI JK L M N'#11\n",
    "texti24 = 'AB CD EF H HI JK L M NO ' #20"
   ]
  },
  {
   "cell_type": "code",
   "execution_count": 12,
   "metadata": {},
   "outputs": [
    {
     "name": "stdout",
     "output_type": "stream",
     "text": [
      "BC FGH KA DE  IJ \n",
      "CFHK E JB G AD I \n",
      "FKEJ  DICH  BGA  \n",
      "FKEJ  DICH  BGA  \n"
     ]
    }
   ],
   "source": [
    "texti17 = encrypt(texti17, 3)"
   ]
  },
  {
   "cell_type": "code",
   "execution_count": 29,
   "metadata": {},
   "outputs": [
    {
     "data": {
      "text/plain": [
       "'AB CD EF G HI JK '"
      ]
     },
     "execution_count": 29,
     "metadata": {},
     "output_type": "execute_result"
    }
   ],
   "source": [
    "decrypt(texti17, 3)"
   ]
  }
 ],
 "metadata": {
  "kernelspec": {
   "display_name": "Python 3",
   "language": "python",
   "name": "python3"
  },
  "language_info": {
   "codemirror_mode": {
    "name": "ipython",
    "version": 3
   },
   "file_extension": ".py",
   "mimetype": "text/x-python",
   "name": "python",
   "nbconvert_exporter": "python",
   "pygments_lexer": "ipython3",
   "version": "3.7.0"
  }
 },
 "nbformat": 4,
 "nbformat_minor": 2
}
