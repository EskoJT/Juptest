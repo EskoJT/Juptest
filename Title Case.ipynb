{
 "cells": [
  {
   "cell_type": "code",
   "execution_count": 16,
   "metadata": {},
   "outputs": [],
   "source": [
    "title = 'THE WIND IN THE WILLOWS'\n",
    "minor_words ='The In'"
   ]
  },
  {
   "cell_type": "code",
   "execution_count": 29,
   "metadata": {},
   "outputs": [],
   "source": [
    "def title_case(title, minor_words = ''):\n",
    "    if not minor_words:\n",
    "        return ' '.join(x.capitalize() for x in title.split())\n",
    "    else:\n",
    "        minor = [x.lower() for x in minor_words.split()]\n",
    "        title = [x.lower() for x in title.split()]\n",
    "        mod = [x.capitalize() if x not in minor else x.lower() for x in title]\n",
    "        mod[0] = mod[0].capitalize()\n",
    "        return ' '.join(x for x in mod)"
   ]
  },
  {
   "cell_type": "code",
   "execution_count": 30,
   "metadata": {},
   "outputs": [
    {
     "data": {
      "text/plain": [
       "'The Wind in the Willows'"
      ]
     },
     "execution_count": 30,
     "metadata": {},
     "output_type": "execute_result"
    }
   ],
   "source": [
    "title_case(title, minor_words)"
   ]
  }
 ],
 "metadata": {
  "kernelspec": {
   "display_name": "Python 3",
   "language": "python",
   "name": "python3"
  },
  "language_info": {
   "codemirror_mode": {
    "name": "ipython",
    "version": 3
   },
   "file_extension": ".py",
   "mimetype": "text/x-python",
   "name": "python",
   "nbconvert_exporter": "python",
   "pygments_lexer": "ipython3",
   "version": "3.7.0"
  }
 },
 "nbformat": 4,
 "nbformat_minor": 2
}
