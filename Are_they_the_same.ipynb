{
 "cells": [
  {
   "cell_type": "code",
   "execution_count": 1,
   "metadata": {},
   "outputs": [],
   "source": [
    "a = [121, 144, 19, 161, 19, 144, 19, 11]  \n",
    "b = [121, 14641, 20736, 361, 25921, 361, 20736, 361]"
   ]
  },
  {
   "cell_type": "code",
   "execution_count": 56,
   "metadata": {},
   "outputs": [],
   "source": [
    "a = [121, 144, 19, 161, 19, 144, 19, 11]  \n",
    "b = [132, 14641, 20736, 361, 25921, 361, 20736, 361]"
   ]
  },
  {
   "cell_type": "code",
   "execution_count": 11,
   "metadata": {},
   "outputs": [],
   "source": [
    "a = ['Nil']\n",
    "b = ['Nil']"
   ]
  },
  {
   "cell_type": "code",
   "execution_count": 20,
   "metadata": {},
   "outputs": [],
   "source": [
    "def comp(a, b):\n",
    "    try:\n",
    "        if [bool(x) for x in a[::1]] and [bool(x) for x in b[::1]]:\n",
    "            a = [x**2 for x in a]\n",
    "            a.sort()\n",
    "            b.sort()\n",
    "        return a[::1] == b[::1]\n",
    "    except TypeError:\n",
    "        return False"
   ]
  }
 ],
 "metadata": {
  "kernelspec": {
   "display_name": "Python 3",
   "language": "python",
   "name": "python3"
  },
  "language_info": {
   "codemirror_mode": {
    "name": "ipython",
    "version": 3
   },
   "file_extension": ".py",
   "mimetype": "text/x-python",
   "name": "python",
   "nbconvert_exporter": "python",
   "pygments_lexer": "ipython3",
   "version": "3.7.0"
  }
 },
 "nbformat": 4,
 "nbformat_minor": 2
}
